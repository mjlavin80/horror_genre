{
 "cells": [
  {
   "cell_type": "code",
   "execution_count": 92,
   "metadata": {
    "collapsed": false
   },
   "outputs": [
    {
     "name": "stdout",
     "output_type": "stream",
     "text": [
      "Populating the interactive namespace from numpy and matplotlib\n"
     ]
    },
    {
     "name": "stderr",
     "output_type": "stream",
     "text": [
      "WARNING: pylab import has clobbered these variables: ['test']\n",
      "`%matplotlib` prevents importing * from pylab and numpy\n"
     ]
    }
   ],
   "source": [
    "import sqlite3\n",
    "import numpy as np\n",
    "import matplotlib.pyplot as plt\n",
    "%matplotlib inline\n",
    "%pylab inline\n",
    "pylab.rcParams['figure.figsize'] = (11, 6)\n",
    "conn = sqlite3.connect('all_measures_fiction.db')\n",
    "c = conn.cursor()\n",
    "query_train = \"\"\"SELECT metadata.doc_id as doc_id, metadata.pub_year, oed_ratio_no_set, oed_neo, gl_ratio_no_set, neo, walker_ratio_no_set \n",
    "FROM results LEFT JOIN metadata ON results.doc_id=metadata.doc_id \n",
    "WHERE test_train = 0 AND is_resample = 0\"\"\"\n",
    "train_rows = c.execute(query_train).fetchall()\n",
    "\n",
    "query_test = \"\"\"SELECT metadata.doc_id as doc_id, metadata.pub_year, oed_ratio_no_set, oed_neo, gl_ratio_no_set, neo, walker_ratio_no_set \n",
    "FROM results LEFT JOIN metadata ON results.doc_id=metadata.doc_id \n",
    "WHERE test_train = 1 AND is_resample = 0\"\"\"\n",
    "test_rows = c.execute(query_test).fetchall()"
   ]
  },
  {
   "cell_type": "markdown",
   "metadata": {},
   "source": [
    "The following uses some probably dubious features to see how well they predict date. The idea isn't necessarily to use this as a classifier, but see what happens when you try to predict year based on these macro ratios instead of invidual features. In this first example, I use every individual year as a \"target,\" meaning that the machine treats every individual year as an isolated probability. Not surprisingly, this isn't especially accurate, although the accuracy rate to 35 years and a mean error are both better than I would have thought.  "
   ]
  },
  {
   "cell_type": "code",
   "execution_count": 93,
   "metadata": {
    "collapsed": false
   },
   "outputs": [
    {
     "name": "stdout",
     "output_type": "stream",
     "text": [
      "35.4333333333 0.6111111111111112\n"
     ]
    }
   ],
   "source": [
    "#3 and 5 are neo\n",
    "from sklearn.naive_bayes import MultinomialNB, BernoulliNB, GaussianNB\n",
    "target = [i[1] for i in train_rows] \n",
    "train = [[i[2], i[3], i[4], i[5], i[6]] for i in train_rows]\n",
    "\n",
    "test = [[i[2], i[3], i[4], i[5], i[6]] for i in test_rows]\n",
    "test_years = [i[1] for i in test_rows]\n",
    "test_doc_ids = [i[0] for i in test_rows]\n",
    "\n",
    "mnb = MultinomialNB()\n",
    "y_pred = mnb.fit(train, target).predict(test)\n",
    "pairs = tuple(zip(test_years, y_pred))\n",
    "differences = [abs(i[0] - i[1]) for i in pairs]\n",
    "accuracy_to_35 = len([i for i in differences if i <=35])/len(differences)\n",
    "mean_error = sum(differences)/float(len(differences))\n",
    "print(mean_error, accuracy_to_35)"
   ]
  },
  {
   "cell_type": "code",
   "execution_count": 94,
   "metadata": {
    "collapsed": false
   },
   "outputs": [
    {
     "name": "stdout",
     "output_type": "stream",
     "text": [
      "24.6904084111 0.7777777777777778\n"
     ]
    }
   ],
   "source": [
    "from sklearn.linear_model import LinearRegression\n",
    "lrg = LinearRegression()\n",
    "y_pred = lrg.fit(train, target).predict(test)\n",
    "\n",
    "pairs = tuple(zip(test_years, y_pred))\n",
    "differences = [abs(i[0] - i[1]) for i in pairs]\n",
    "accuracy_to_35 = len([i for i in differences if i <=35])/len(differences)\n",
    "mean_error = sum(differences)/float(len(differences))\n",
    "print(mean_error, accuracy_to_35)"
   ]
  },
  {
   "cell_type": "code",
   "execution_count": 95,
   "metadata": {
    "collapsed": false
   },
   "outputs": [
    {
     "name": "stdout",
     "output_type": "stream",
     "text": [
      "28.2444444444 0.7222222222222222\n"
     ]
    }
   ],
   "source": [
    "gnb = GaussianNB()\n",
    "y_pred = gnb.fit(train, target).predict(test)\n",
    "\n",
    "pairs = tuple(zip(test_years, y_pred))\n",
    "differences = [abs(i[0] - i[1]) for i in pairs]\n",
    "accuracy_to_35 = len([i for i in differences if i <=35])/len(differences)\n",
    "mean_error = sum(differences)/float(len(differences))\n",
    "print(mean_error, accuracy_to_35)"
   ]
  },
  {
   "cell_type": "code",
   "execution_count": 96,
   "metadata": {
    "collapsed": false
   },
   "outputs": [
    {
     "name": "stdout",
     "output_type": "stream",
     "text": [
      "27.1 0.7222222222222222\n"
     ]
    }
   ],
   "source": [
    "from sklearn import tree\n",
    "clf = tree.DecisionTreeClassifier()\n",
    "y_pred = clf.fit(train, target).predict(test)\n",
    "pairs = tuple(zip(test_years, y_pred))\n",
    "differences = [abs(i[0] - i[1]) for i in pairs]\n",
    "accuracy_to_35 = len([i for i in differences if i <=35])/len(differences)\n",
    "mean_error = sum(differences)/float(len(differences))\n",
    "print(mean_error, accuracy_to_35)"
   ]
  },
  {
   "cell_type": "markdown",
   "metadata": {},
   "source": [
    "Naive Bayes, Gaussian filter, seems to perform best of this grouping, but the decision tree classifier is also more accurate than I thought it would be. Next, I tried creating fewer categories by making year groups. "
   ]
  },
  {
   "cell_type": "code",
   "execution_count": 97,
   "metadata": {
    "collapsed": false
   },
   "outputs": [],
   "source": [
    "def convert_to_groups(years, year_range=25):\n",
    "    start = 1751\n",
    "    end = 1901\n",
    "    year_groups = [i for i in range(start, end, year_range)]\n",
    "    results = []\n",
    "    for i in years:\n",
    "        for y in year_groups:\n",
    "            if i >= y and i < y+year_range:\n",
    "                results.append(y)\n",
    "    return results "
   ]
  },
  {
   "cell_type": "code",
   "execution_count": 98,
   "metadata": {
    "collapsed": false
   },
   "outputs": [
    {
     "name": "stdout",
     "output_type": "stream",
     "text": [
      "0.3\n",
      "0.6444444444444445\n"
     ]
    }
   ],
   "source": [
    "mnb = MultinomialNB()\n",
    "train_groups = convert_to_groups(target) \n",
    "y_pred = mnb.fit(train, train_groups).predict(test)\n",
    "test_groups = convert_to_groups(test_years)\n",
    "pairs = tuple(zip(test_groups, y_pred))\n",
    "acc = len([i for i in pairs if i[0] == i[1]])/float(len(pairs))\n",
    "print(acc)\n",
    "adj = len([i for i in pairs if abs(i[0]-i[1]) <= 26])/float(len(pairs))\n",
    "print(adj)"
   ]
  },
  {
   "cell_type": "code",
   "execution_count": 99,
   "metadata": {
    "collapsed": false
   },
   "outputs": [
    {
     "name": "stdout",
     "output_type": "stream",
     "text": [
      "0.36666666666666664\n",
      "0.8333333333333334\n"
     ]
    }
   ],
   "source": [
    "gnb = GaussianNB()\n",
    "y_pred = gnb.fit(train, train_groups).predict(test)\n",
    "test_groups = convert_to_groups(test_years)\n",
    "pairs = tuple(zip(test_groups, y_pred))\n",
    "acc = len([i for i in pairs if i[0] == i[1]])/float(len(pairs))\n",
    "print(acc)\n",
    "adj = len([i for i in pairs if abs(i[0]-i[1]) <= 26])/float(len(pairs))\n",
    "print(adj)"
   ]
  },
  {
   "cell_type": "markdown",
   "metadata": {},
   "source": [
    "Originally, I hypothesized that these groupings would be more accurate, but I was completely wrong. With a multinomial Naive Bayes classifier, the 25-year clusters are only 21% accurate, which is just a little better than random. The Gaussian filter performs much better at 40% accuracy. Further, 80% of cases were placed either in the right group or in an adjacent group. In the next frame, I tried running the same test using only neologism ratios. "
   ]
  },
  {
   "cell_type": "code",
   "execution_count": 100,
   "metadata": {
    "collapsed": false
   },
   "outputs": [
    {
     "name": "stdout",
     "output_type": "stream",
     "text": [
      "0.25555555555555554\n",
      "0.6777777777777778\n"
     ]
    }
   ],
   "source": [
    "train_neo = [[i[3], i[5]] for i in train_rows]\n",
    "test_neo = [[i[3], i[5]] for i in test_rows]\n",
    "                  \n",
    "gnb = GaussianNB()\n",
    "y_pred = gnb.fit(train_neo, train_groups).predict(test_neo)\n",
    "test_groups = convert_to_groups(test_years)\n",
    "pairs = tuple(zip(test_groups, y_pred))\n",
    "acc = len([i for i in pairs if i[0] == i[1]])/float(len(pairs))\n",
    "print(acc)\n",
    "adj = len([i for i in pairs if abs(i[0]-i[1]) <= 26])/float(len(pairs))\n",
    "print(adj)"
   ]
  },
  {
   "cell_type": "code",
   "execution_count": 101,
   "metadata": {
    "collapsed": false
   },
   "outputs": [
    {
     "name": "stdout",
     "output_type": "stream",
     "text": [
      "0.6777777777777778\n",
      "0.9444444444444444\n"
     ]
    }
   ],
   "source": [
    "gnb = GaussianNB()\n",
    "train_groups = convert_to_groups(target, 50) \n",
    "\n",
    "y_pred = gnb.fit(train, train_groups).predict(test)\n",
    "test_groups = convert_to_groups(test_years, 50)\n",
    "pairs = tuple(zip(test_groups, y_pred))\n",
    "acc = len([i for i in pairs if i[0] == i[1]])/float(len(pairs))\n",
    "print(acc)\n",
    "adj = len([i for i in pairs if abs(i[0]-i[1]) <= 50])/float(len(pairs))\n",
    "print(adj)"
   ]
  },
  {
   "cell_type": "markdown",
   "metadata": {},
   "source": [
    "Seems like the best adjacency rate comes from a 50-year window, which makes sense, because there are basically three categories: early, middle, and late and there's a high base probability that an item in the middle group belongs to an adjacent group, and that an item placed in a peropheral group belongs in the upper or lower group. Meanwhile, a binary classifier (pre 1826 vs post) performs at about 80 percent accuracy. (And maybe a little better with logistic regression instead of a Gaussian Naives Bayes.) I suspected that this type of classification would tend to be accurate on the edges of the data and less so in the middle, so I started thinking about how to incorporate these two methods together to do something like \"ballparking\" and then defining."
   ]
  },
  {
   "cell_type": "code",
   "execution_count": 114,
   "metadata": {
    "collapsed": false
   },
   "outputs": [
    {
     "name": "stdout",
     "output_type": "stream",
     "text": [
      "0.7888888888888889\n"
     ]
    }
   ],
   "source": [
    "gnb = GaussianNB()\n",
    "\n",
    "train_groups = convert_to_groups(target, 75) \n",
    "train_binary = [0 if i == 1751 else 1 for i in train_groups] \n",
    "        \n",
    "y_pred = gnb.fit(train, train_binary).predict(test)\n",
    "test_groups = convert_to_groups(test_years, 75)\n",
    "test_binary = [0 if i == 1751 else 1 for i in test_groups]\n",
    "pairs = tuple(zip(test_binary, y_pred))\n",
    "acc = len([i for i in pairs if i[0] == i[1]])/float(len(pairs))\n",
    "print(acc)"
   ]
  },
  {
   "cell_type": "code",
   "execution_count": 115,
   "metadata": {
    "collapsed": false
   },
   "outputs": [
    {
     "name": "stdout",
     "output_type": "stream",
     "text": [
      "0.8111111111111111\n"
     ]
    }
   ],
   "source": [
    "from sklearn.linear_model import LogisticRegression\n",
    "from sklearn.feature_selection import SelectKBest, VarianceThreshold\n",
    "\n",
    "lr = LogisticRegression()\n",
    "train_groups = convert_to_groups(target, 75) \n",
    "train_binary = [0 if i == 1751 else 1 for i in train_groups] \n",
    "\n",
    "s = VarianceThreshold(threshold=.08)\n",
    "xnew = s.fit_transform(train, train_binary)\n",
    "ynew = s.transform(test)\n",
    "\n",
    "m= lr.fit(xnew, train_binary)\n",
    "y_pred = m.predict(ynew)\n",
    "probs = m.predict_proba(ynew)\n",
    "test_groups = convert_to_groups(test_years, 75)\n",
    "test_binary = [0 if i == 1751 else 1 for i in test_groups]\n",
    "pairs = tuple(zip(test_binary, y_pred, probs.tolist()))\n",
    "acc = len([i for i in pairs if i[0] == i[1]])/float(len(pairs))\n",
    "print(acc)"
   ]
  },
  {
   "cell_type": "code",
   "execution_count": 134,
   "metadata": {
    "collapsed": false
   },
   "outputs": [
    {
     "data": {
      "image/png": "[encoded data removed]",
      "text/plain": [
       "<matplotlib.figure.Figure at 0x1184dcdd8>"
      ]
     },
     "metadata": {},
     "output_type": "display_data"
    }
   ],
   "source": [
    "#plot probability vs actual\n",
    "#plt.scatter()\n",
    "\n",
    "fig = plt.figure()\n",
    "ax1 = fig.add_subplot(111)\n",
    "pairs = list(zip(test_binary, y_pred, test_years, [i[0] for i in probs.tolist()]))\n",
    "correct = [i for i in pairs if i[0] == i[1]]\n",
    "incorrect = [i for i in pairs if i[0] != i[1]]\n",
    "ax1.scatter([i[2] for i in correct], [i[3] for i in correct], s=30, c='b', marker=\"D\", label='Correct')\n",
    "ax1.scatter([i[2] for i in incorrect], [i[3] for i in incorrect], s=30, c='r', marker=\"o\", label='Incorrect')\n",
    "plt.legend(loc='upper left');\n",
    "plt.show()"
   ]
  },
  {
   "cell_type": "code",
   "execution_count": 13,
   "metadata": {
    "collapsed": false
   },
   "outputs": [
    {
     "data": {
      "text/plain": [
       "Counter({1751: 244, 1826: 205})"
      ]
     },
     "execution_count": 13,
     "metadata": {},
     "output_type": "execute_result"
    }
   ],
   "source": [
    "tg_year_counts = Counter(train_groups)\n",
    "tg_year_counts"
   ]
  },
  {
   "cell_type": "code",
   "execution_count": 135,
   "metadata": {
    "collapsed": false
   },
   "outputs": [
    {
     "data": {
      "text/plain": [
       "[(0.7777777777777778, 1826), (0.8444444444444444, 1751)]"
      ]
     },
     "execution_count": 135,
     "metadata": {},
     "output_type": "execute_result"
    }
   ],
   "source": [
    "r = list(zip([i[0] for i in pairs], [i[1] for i in pairs], test_groups))\n",
    "year_counts = Counter(test_groups) \n",
    "right = Counter([i[2] for i in r if i[0] == i[1]])\n",
    "acc_by_year = []\n",
    "for i in year_counts.keys():\n",
    "    acc = right[i]/float(year_counts[i])\n",
    "    acc_by_year.append((acc, i))\n",
    "acc_by_year = sorted(acc_by_year)\n",
    "acc_by_year"
   ]
  },
  {
   "cell_type": "code",
   "execution_count": 148,
   "metadata": {
    "collapsed": false
   },
   "outputs": [],
   "source": [
    "#bootstrapping \n",
    "#get doc ids\n",
    "conn = sqlite3.connect('all_measures_fiction.db')\n",
    "c = conn.cursor()\n",
    "doc_ids_q = \"\"\"SELECT doc_id FROM metadata\"\"\"\n",
    "doc_ids = c.execute(doc_ids_q).fetchall()\n",
    "\n",
    "query_train = \"\"\"SELECT metadata.doc_id as doc_id, metadata.pub_year, oed_ratio_no_set, oed_neo, gl_ratio_no_set, neo, walker_ratio_no_set \n",
    "FROM results LEFT JOIN metadata ON results.doc_id=metadata.doc_id \n",
    "WHERE test_train = 0 AND is_resample = 1\"\"\"\n",
    "\n",
    "query_test = \"\"\"SELECT metadata.doc_id, metadata.pub_year, oed_ratio_no_set, oed_neo, gl_ratio_no_set, neo, walker_ratio_no_set \n",
    "FROM results LEFT JOIN metadata ON results.doc_id=metadata.doc_id \n",
    "WHERE test_train = 1 AND is_resample = 1 AND metadata.doc_id=?\"\"\"\n",
    "#loop doc ids\n",
    "train_rows = c.execute(query_train).fetchall()\n",
    "\n",
    "target = [i[1] for i in train_rows] \n",
    "train = [[i[2], i[3], i[4], i[5], i[6]] for i in train_rows]\n",
    "gnb = GaussianNB()\n",
    "machine = gnb.fit(train, target)\n",
    "\n",
    "y_pred = []\n",
    "for did in doc_ids:\n",
    "    #get rows for each sample, \n",
    "    \n",
    "    test_rows = c.execute(query_test, did).fetchall()\n",
    "    if test_rows:\n",
    "        votes = []\n",
    "        year = test_rows[0][1]\n",
    "        doc_id = test_rows[0][0]\n",
    "        for row in test_rows:\n",
    "            test = [[row[2], row[3], row[4], row[5], row[6]]]\n",
    "            _y = machine.predict(test)\n",
    "            votes.append(int(_y))\n",
    "        data = (doc_id, year, votes)\n",
    "        y_pred.append(data)"
   ]
  },
  {
   "cell_type": "code",
   "execution_count": 176,
   "metadata": {
    "collapsed": false
   },
   "outputs": [
    {
     "name": "stdout",
     "output_type": "stream",
     "text": [
      "37.2666666667 0.6111111111111112\n"
     ]
    }
   ],
   "source": [
    "#convert multiple predictions to one\n",
    "d = zip(y_predicted, test_years)\n",
    "differences = [abs(i[0] - i[1]) for i in d]\n",
    "\n",
    "accuracy_to_35 = len([i for i in differences if i <=35])/len(differences)\n",
    "mean_error = sum(differences)/float(len(differences))\n",
    "print(mean_error, accuracy_to_35)"
   ]
  },
  {
   "cell_type": "code",
   "execution_count": 195,
   "metadata": {
    "collapsed": false
   },
   "outputs": [
    {
     "data": {
      "image/png": "[encoded data removed]",
      "text/plain": [
       "<matplotlib.figure.Figure at 0x11637dac8>"
      ]
     },
     "metadata": {},
     "output_type": "display_data"
    }
   ],
   "source": [
    "fig = plt.figure()\n",
    "ax1 = fig.add_subplot(111)\n",
    "y_predicted = [Counter(i[2]).most_common()[0][0] for i in y_pred]\n",
    "pairs = list(zip(differences, y_predicted, test_years))\n",
    "pairs = sorted(pairs, key=lambda x: x[2])\n",
    "\n",
    "correct = [i for i in pairs if i[0] == 0]\n",
    "close = [i for i in pairs if i[0] != 0 and i[0] <= 35]\n",
    "incorrect = [i for i in pairs if i[0] >= 35]\n",
    "\n",
    "ax1.scatter([i[2] for i in close], [i[1] for i in close], s=30, c='b', marker=\"D\", label='Within 35 Years')\n",
    "ax1.scatter([i[2] for i in correct], [i[1] for i in correct], s=150, c='yellow', marker=\"*\", label='Correct Date Assigned')\n",
    "ax1.scatter([i[2] for i in incorrect], [i[1] for i in incorrect], s=30, c='r', marker=\"o\", label='Off by 35 or More')\n",
    "ax1.plot([i[2] for i in pairs], [i[2] for i in pairs], c=\"gray\")\n",
    "ax1.fill_between([i[2] for i in pairs], [i[2]-35 for i in pairs], [i[2]+35 for i in pairs], facecolor='blue', alpha=0.2)\n",
    "ax1.fill_between([i[2] for i in pairs], [i[2]-70 for i in pairs], [i[2]+70 for i in pairs], facecolor='gray', alpha=0.1)\n",
    "\n",
    "plt.legend(loc='upper left');\n",
    "ax1.set_xlabel('Actual Year')\n",
    "ax1.set_ylabel('Projected Year')\n",
    "plt.show()"
   ]
  },
  {
   "cell_type": "code",
   "execution_count": null,
   "metadata": {
    "collapsed": true
   },
   "outputs": [],
   "source": []
  },
  {
   "cell_type": "code",
   "execution_count": null,
   "metadata": {
    "collapsed": true
   },
   "outputs": [],
   "source": []
  }
 ],
 "metadata": {
  "kernelspec": {
   "display_name": "Python 3",
   "language": "python",
   "name": "python3"
  },
  "language_info": {
   "codemirror_mode": {
    "name": "ipython",
    "version": 3
   },
   "file_extension": ".py",
   "mimetype": "text/x-python",
   "name": "python",
   "nbconvert_exporter": "python",
   "pygments_lexer": "ipython3",
   "version": "3.5.1"
  }
 },
 "nbformat": 4,
 "nbformat_minor": 0
}
